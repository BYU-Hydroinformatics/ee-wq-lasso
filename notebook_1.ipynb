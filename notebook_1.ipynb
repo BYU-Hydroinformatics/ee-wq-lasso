{
  "nbformat": 4,
  "nbformat_minor": 0,
  "metadata": {
    "colab": {
      "provenance": [],
      "include_colab_link": true
    },
    "kernelspec": {
      "name": "python3",
      "display_name": "Python 3"
    },
    "language_info": {
      "name": "python"
    },
    "widgets": {
      "application/vnd.jupyter.widget-state+json": {
        "8428112156e847c481906f267a5a0651": {
          "model_module": "jupyter-leaflet",
          "model_name": "LeafletMapModel",
          "model_module_version": "^0.17",
          "state": {
            "_dom_classes": [],
            "_model_module": "jupyter-leaflet",
            "_model_module_version": "^0.17",
            "_model_name": "LeafletMapModel",
            "_view_count": null,
            "_view_module": "jupyter-leaflet",
            "_view_module_version": "^0.17",
            "_view_name": "LeafletMapView",
            "bottom": 24994,
            "bounce_at_zoom_limits": true,
            "box_zoom": true,
            "center": [
              40.489042044251924,
              -108.88021604399492
            ],
            "close_popup_on_click": true,
            "controls": [
              "IPY_MODEL_a4dac4be345b452c991b687f7b9c4a87",
              "IPY_MODEL_8455658516d248b198a11b2df735bdfd",
              "IPY_MODEL_1caf8c3bb5c34b90a0a6735d5f771b45",
              "IPY_MODEL_9967ea50f43e4b2abde4539d033d6131",
              "IPY_MODEL_b6dac53d39f944ed83518b78dadba49f",
              "IPY_MODEL_8feda7e800a94468ad7e2db2a1cd4aeb",
              "IPY_MODEL_61ad5408900e4c03b7d2e78d03dcbed6",
              "IPY_MODEL_cae763b0cfab4ad995e39a2b33378802",
              "IPY_MODEL_ce949207c6ad4d038d7858948023f2fb"
            ],
            "crs": {
              "name": "EPSG3857",
              "custom": false
            },
            "default_style": "IPY_MODEL_66bfec0c8b9b407b8f934dc5dac0335b",
            "double_click_zoom": true,
            "dragging": true,
            "dragging_style": "IPY_MODEL_41d240238f044dc888128b6a80f53cf5",
            "east": -103.3648681640625,
            "fullscreen": false,
            "inertia": true,
            "inertia_deceleration": 3000,
            "inertia_max_speed": 1500,
            "interpolation": "bilinear",
            "keyboard": true,
            "keyboard_pan_offset": 80,
            "keyboard_zoom_offset": 1,
            "layers": [
              "IPY_MODEL_8822166c25e54860824be51d07b5e1f5",
              "IPY_MODEL_3e5483523b06426489ed7a7f58043d9f",
              "IPY_MODEL_0ee77530a2184d02ab534c8aa8e5719b"
            ],
            "layout": "IPY_MODEL_d8204fb488d841b8be733d0db7b1a27d",
            "left": 11943,
            "max_zoom": 24,
            "min_zoom": null,
            "modisdate": "2023-02-22",
            "north": 41.73033005046653,
            "options": [
              "bounce_at_zoom_limits",
              "box_zoom",
              "center",
              "close_popup_on_click",
              "double_click_zoom",
              "dragging",
              "fullscreen",
              "inertia",
              "inertia_deceleration",
              "inertia_max_speed",
              "interpolation",
              "keyboard",
              "keyboard_pan_offset",
              "keyboard_zoom_offset",
              "max_zoom",
              "min_zoom",
              "prefer_canvas",
              "scroll_wheel_zoom",
              "tap",
              "tap_tolerance",
              "touch_zoom",
              "world_copy_jump",
              "zoom",
              "zoom_animation_threshold",
              "zoom_delta",
              "zoom_snap"
            ],
            "panes": {},
            "prefer_canvas": false,
            "right": 13951,
            "scroll_wheel_zoom": true,
            "south": 39.223742741391305,
            "style": "IPY_MODEL_66bfec0c8b9b407b8f934dc5dac0335b",
            "tap": true,
            "tap_tolerance": 15,
            "top": 24394,
            "touch_zoom": true,
            "west": -114.39514160156251,
            "window_url": "https://c66vuufy9l-496ff2e9c6d22116-0-colab.googleusercontent.com/outputframe.html?vrz=colab-20230222-060140-RC00_511386493",
            "world_copy_jump": false,
            "zoom": 8,
            "zoom_animation_threshold": 4,
            "zoom_delta": 1,
            "zoom_snap": 1
          }
        },
        "a4dac4be345b452c991b687f7b9c4a87": {
          "model_module": "jupyter-leaflet",
          "model_name": "LeafletWidgetControlModel",
          "model_module_version": "^0.17",
          "state": {
            "_model_module": "jupyter-leaflet",
            "_model_module_version": "^0.17",
            "_model_name": "LeafletWidgetControlModel",
            "_view_count": null,
            "_view_module": "jupyter-leaflet",
            "_view_module_version": "^0.17",
            "_view_name": "LeafletWidgetControlView",
            "max_height": null,
            "max_width": null,
            "min_height": null,
            "min_width": null,
            "options": [
              "position",
              "transparent_bg"
            ],
            "position": "topleft",
            "transparent_bg": false,
            "widget": "IPY_MODEL_c6110c61a47648f3b8e52a39117381ff"
          }
        },
        "8455658516d248b198a11b2df735bdfd": {
          "model_module": "jupyter-leaflet",
          "model_name": "LeafletZoomControlModel",
          "model_module_version": "^0.17",
          "state": {
            "_model_module": "jupyter-leaflet",
            "_model_module_version": "^0.17",
            "_model_name": "LeafletZoomControlModel",
            "_view_count": null,
            "_view_module": "jupyter-leaflet",
            "_view_module_version": "^0.17",
            "_view_name": "LeafletZoomControlView",
            "options": [
              "position",
              "zoom_in_text",
              "zoom_in_title",
              "zoom_out_text",
              "zoom_out_title"
            ],
            "position": "topleft",
            "zoom_in_text": "+",
            "zoom_in_title": "Zoom in",
            "zoom_out_text": "-",
            "zoom_out_title": "Zoom out"
          }
        },
        "1caf8c3bb5c34b90a0a6735d5f771b45": {
          "model_module": "jupyter-leaflet",
          "model_name": "LeafletScaleControlModel",
          "model_module_version": "^0.17",
          "state": {
            "_model_module": "jupyter-leaflet",
            "_model_module_version": "^0.17",
            "_model_name": "LeafletScaleControlModel",
            "_view_count": null,
            "_view_module": "jupyter-leaflet",
            "_view_module_version": "^0.17",
            "_view_name": "LeafletScaleControlView",
            "imperial": true,
            "max_width": 100,
            "metric": true,
            "options": [
              "imperial",
              "max_width",
              "metric",
              "position",
              "update_when_idle"
            ],
            "position": "bottomleft",
            "update_when_idle": false
          }
        },
        "9967ea50f43e4b2abde4539d033d6131": {
          "model_module": "jupyter-leaflet",
          "model_name": "LeafletFullScreenControlModel",
          "model_module_version": "^0.17",
          "state": {
            "_model_module": "jupyter-leaflet",
            "_model_module_version": "^0.17",
            "_model_name": "LeafletFullScreenControlModel",
            "_view_count": null,
            "_view_module": "jupyter-leaflet",
            "_view_module_version": "^0.17",
            "_view_name": "LeafletFullScreenControlView",
            "options": [
              "position"
            ],
            "position": "topleft"
          }
        },
        "b6dac53d39f944ed83518b78dadba49f": {
          "model_module": "jupyter-leaflet",
          "model_name": "LeafletMeasureControlModel",
          "model_module_version": "^0.17",
          "state": {
            "_custom_units": {},
            "_model_module": "jupyter-leaflet",
            "_model_module_version": "^0.17",
            "_model_name": "LeafletMeasureControlModel",
            "_view_count": null,
            "_view_module": "jupyter-leaflet",
            "_view_module_version": "^0.17",
            "_view_name": "LeafletMeasureControlView",
            "active_color": "orange",
            "capture_z_index": 10000,
            "completed_color": "#C8F2BE",
            "options": [
              "active_color",
              "capture_z_index",
              "completed_color",
              "popup_options",
              "position",
              "primary_area_unit",
              "primary_length_unit",
              "secondary_area_unit",
              "secondary_length_unit"
            ],
            "popup_options": {
              "className": "leaflet-measure-resultpopup",
              "autoPanPadding": [
                10,
                10
              ]
            },
            "position": "bottomleft",
            "primary_area_unit": "acres",
            "primary_length_unit": "kilometers",
            "secondary_area_unit": null,
            "secondary_length_unit": null
          }
        },
        "8feda7e800a94468ad7e2db2a1cd4aeb": {
          "model_module": "jupyter-leaflet",
          "model_name": "LeafletAttributionControlModel",
          "model_module_version": "^0.17",
          "state": {
            "_model_module": "jupyter-leaflet",
            "_model_module_version": "^0.17",
            "_model_name": "LeafletAttributionControlModel",
            "_view_count": null,
            "_view_module": "jupyter-leaflet",
            "_view_module_version": "^0.17",
            "_view_name": "LeafletAttributionControlView",
            "options": [
              "position",
              "prefix"
            ],
            "position": "bottomright",
            "prefix": "ipyleaflet"
          }
        },
        "61ad5408900e4c03b7d2e78d03dcbed6": {
          "model_module": "jupyter-leaflet",
          "model_name": "LeafletDrawControlModel",
          "model_module_version": "^0.17",
          "state": {
            "_model_module": "jupyter-leaflet",
            "_model_module_version": "^0.17",
            "_model_name": "LeafletDrawControlModel",
            "_view_count": null,
            "_view_module": "jupyter-leaflet",
            "_view_module_version": "^0.17",
            "_view_name": "LeafletDrawControlView",
            "circle": {
              "shapeOptions": {
                "color": "#3388ff"
              }
            },
            "circlemarker": {},
            "data": [],
            "edit": true,
            "marker": {
              "shapeOptions": {
                "color": "#3388ff"
              }
            },
            "options": [
              "position"
            ],
            "polygon": {
              "shapeOptions": {}
            },
            "polyline": {
              "shapeOptions": {}
            },
            "position": "topleft",
            "rectangle": {
              "shapeOptions": {
                "color": "#3388ff"
              }
            },
            "remove": true
          }
        },
        "cae763b0cfab4ad995e39a2b33378802": {
          "model_module": "jupyter-leaflet",
          "model_name": "LeafletWidgetControlModel",
          "model_module_version": "^0.17",
          "state": {
            "_model_module": "jupyter-leaflet",
            "_model_module_version": "^0.17",
            "_model_name": "LeafletWidgetControlModel",
            "_view_count": null,
            "_view_module": "jupyter-leaflet",
            "_view_module_version": "^0.17",
            "_view_name": "LeafletWidgetControlView",
            "max_height": null,
            "max_width": null,
            "min_height": null,
            "min_width": null,
            "options": [
              "position",
              "transparent_bg"
            ],
            "position": "topright",
            "transparent_bg": false,
            "widget": "IPY_MODEL_e79f16e0edd3436aa28a10edab64f6a8"
          }
        },
        "ce949207c6ad4d038d7858948023f2fb": {
          "model_module": "jupyter-leaflet",
          "model_name": "LeafletLayersControlModel",
          "model_module_version": "^0.17",
          "state": {
            "_model_module": "jupyter-leaflet",
            "_model_module_version": "^0.17",
            "_model_name": "LeafletLayersControlModel",
            "_view_count": null,
            "_view_module": "jupyter-leaflet",
            "_view_module_version": "^0.17",
            "_view_name": "LeafletLayersControlView",
            "options": [
              "position"
            ],
            "position": "topright"
          }
        },
        "66bfec0c8b9b407b8f934dc5dac0335b": {
          "model_module": "jupyter-leaflet",
          "model_name": "LeafletMapStyleModel",
          "model_module_version": "^0.17",
          "state": {
            "_model_module": "jupyter-leaflet",
            "_model_module_version": "^0.17",
            "_model_name": "LeafletMapStyleModel",
            "_view_count": null,
            "_view_module": "@jupyter-widgets/base",
            "_view_module_version": "1.2.0",
            "_view_name": "StyleView",
            "cursor": "grab"
          }
        },
        "41d240238f044dc888128b6a80f53cf5": {
          "model_module": "jupyter-leaflet",
          "model_name": "LeafletMapStyleModel",
          "model_module_version": "^0.17",
          "state": {
            "_model_module": "jupyter-leaflet",
            "_model_module_version": "^0.17",
            "_model_name": "LeafletMapStyleModel",
            "_view_count": null,
            "_view_module": "@jupyter-widgets/base",
            "_view_module_version": "1.2.0",
            "_view_name": "StyleView",
            "cursor": "move"
          }
        },
        "8822166c25e54860824be51d07b5e1f5": {
          "model_module": "jupyter-leaflet",
          "model_name": "LeafletTileLayerModel",
          "model_module_version": "^0.17",
          "state": {
            "_model_module": "jupyter-leaflet",
            "_model_module_version": "^0.17",
            "_model_name": "LeafletTileLayerModel",
            "_view_count": null,
            "_view_module": "jupyter-leaflet",
            "_view_module_version": "^0.17",
            "_view_name": "LeafletTileLayerView",
            "attribution": "&copy; <a href=\"https://www.openstreetmap.org/copyright\">OpenStreetMap</a> contributors",
            "base": true,
            "bottom": true,
            "bounds": null,
            "detect_retina": false,
            "loading": false,
            "max_native_zoom": null,
            "max_zoom": 19,
            "min_native_zoom": null,
            "min_zoom": 1,
            "name": "OpenStreetMap.Mapnik",
            "no_wrap": false,
            "opacity": 1,
            "options": [
              "attribution",
              "bounds",
              "detect_retina",
              "max_native_zoom",
              "max_zoom",
              "min_native_zoom",
              "min_zoom",
              "no_wrap",
              "tile_size",
              "tms",
              "zoom_offset"
            ],
            "pane": "",
            "popup": null,
            "popup_max_height": null,
            "popup_max_width": 300,
            "popup_min_width": 50,
            "show_loading": false,
            "subitems": [],
            "tile_size": 256,
            "tms": false,
            "url": "https://tile.openstreetmap.org/{z}/{x}/{y}.png",
            "visible": true,
            "zoom_offset": 0
          }
        },
        "3e5483523b06426489ed7a7f58043d9f": {
          "model_module": "jupyter-leaflet",
          "model_name": "LeafletTileLayerModel",
          "model_module_version": "^0.17",
          "state": {
            "_model_module": "jupyter-leaflet",
            "_model_module_version": "^0.17",
            "_model_name": "LeafletTileLayerModel",
            "_view_count": null,
            "_view_module": "jupyter-leaflet",
            "_view_module_version": "^0.17",
            "_view_name": "LeafletTileLayerView",
            "attribution": "Google",
            "base": false,
            "bottom": true,
            "bounds": null,
            "detect_retina": false,
            "loading": false,
            "max_native_zoom": null,
            "max_zoom": 22,
            "min_native_zoom": null,
            "min_zoom": 0,
            "name": "Google Maps",
            "no_wrap": false,
            "opacity": 1,
            "options": [
              "attribution",
              "bounds",
              "detect_retina",
              "max_native_zoom",
              "max_zoom",
              "min_native_zoom",
              "min_zoom",
              "no_wrap",
              "tile_size",
              "tms",
              "zoom_offset"
            ],
            "pane": "",
            "popup": null,
            "popup_max_height": null,
            "popup_max_width": 300,
            "popup_min_width": 50,
            "show_loading": false,
            "subitems": [],
            "tile_size": 256,
            "tms": false,
            "url": "https://mt1.google.com/vt/lyrs=m&x={x}&y={y}&z={z}",
            "visible": true,
            "zoom_offset": 0
          }
        },
        "0ee77530a2184d02ab534c8aa8e5719b": {
          "model_module": "jupyter-leaflet",
          "model_name": "LeafletTileLayerModel",
          "model_module_version": "^0.17",
          "state": {
            "_model_module": "jupyter-leaflet",
            "_model_module_version": "^0.17",
            "_model_name": "LeafletTileLayerModel",
            "_view_count": null,
            "_view_module": "jupyter-leaflet",
            "_view_module_version": "^0.17",
            "_view_name": "LeafletTileLayerView",
            "attribution": "Google Earth Engine",
            "base": false,
            "bottom": true,
            "bounds": null,
            "detect_retina": false,
            "loading": false,
            "max_native_zoom": null,
            "max_zoom": 24,
            "min_native_zoom": null,
            "min_zoom": 0,
            "name": "In-Situ Samples",
            "no_wrap": false,
            "opacity": 1,
            "options": [
              "attribution",
              "bounds",
              "detect_retina",
              "max_native_zoom",
              "max_zoom",
              "min_native_zoom",
              "min_zoom",
              "no_wrap",
              "tile_size",
              "tms",
              "zoom_offset"
            ],
            "pane": "",
            "popup": null,
            "popup_max_height": null,
            "popup_max_width": 300,
            "popup_min_width": 50,
            "show_loading": false,
            "subitems": [],
            "tile_size": 256,
            "tms": false,
            "url": "https://earthengine.googleapis.com/v1alpha/projects/earthengine-legacy/maps/9903626aa62aff38a6bc7bcc7adaba99-57f6dd9edaafe8ab7214cfd1e2ede013/tiles/{z}/{x}/{y}",
            "visible": true,
            "zoom_offset": 0
          }
        },
        "d8204fb488d841b8be733d0db7b1a27d": {
          "model_module": "@jupyter-widgets/base",
          "model_name": "LayoutModel",
          "model_module_version": "1.2.0",
          "state": {
            "_model_module": "@jupyter-widgets/base",
            "_model_module_version": "1.2.0",
            "_model_name": "LayoutModel",
            "_view_count": null,
            "_view_module": "@jupyter-widgets/base",
            "_view_module_version": "1.2.0",
            "_view_name": "LayoutView",
            "align_content": null,
            "align_items": null,
            "align_self": null,
            "border": null,
            "bottom": null,
            "display": null,
            "flex": null,
            "flex_flow": null,
            "grid_area": null,
            "grid_auto_columns": null,
            "grid_auto_flow": null,
            "grid_auto_rows": null,
            "grid_column": null,
            "grid_gap": null,
            "grid_row": null,
            "grid_template_areas": null,
            "grid_template_columns": null,
            "grid_template_rows": null,
            "height": "600px",
            "justify_content": null,
            "justify_items": null,
            "left": null,
            "margin": null,
            "max_height": null,
            "max_width": null,
            "min_height": null,
            "min_width": null,
            "object_fit": null,
            "object_position": null,
            "order": null,
            "overflow": null,
            "overflow_x": null,
            "overflow_y": null,
            "padding": null,
            "right": null,
            "top": null,
            "visibility": null,
            "width": null
          }
        },
        "78c88ea1347c4978abfe27ba57d45c20": {
          "model_module": "jupyter-leaflet",
          "model_name": "LeafletMapStyleModel",
          "model_module_version": "^0.17",
          "state": {
            "_model_module": "jupyter-leaflet",
            "_model_module_version": "^0.17",
            "_model_name": "LeafletMapStyleModel",
            "_view_count": null,
            "_view_module": "@jupyter-widgets/base",
            "_view_module_version": "1.2.0",
            "_view_name": "StyleView",
            "cursor": "grab"
          }
        },
        "c6110c61a47648f3b8e52a39117381ff": {
          "model_module": "@jupyter-widgets/controls",
          "model_name": "HBoxModel",
          "model_module_version": "1.5.0",
          "state": {
            "_dom_classes": [],
            "_model_module": "@jupyter-widgets/controls",
            "_model_module_version": "1.5.0",
            "_model_name": "HBoxModel",
            "_view_count": null,
            "_view_module": "@jupyter-widgets/controls",
            "_view_module_version": "1.5.0",
            "_view_name": "HBoxView",
            "box_style": "",
            "children": [
              "IPY_MODEL_2d2e754f40b84cb58b5c8470907c2cc7"
            ],
            "layout": "IPY_MODEL_9bd9732770c34c45b5163daa5f5e532e"
          }
        },
        "e79f16e0edd3436aa28a10edab64f6a8": {
          "model_module": "@jupyter-widgets/controls",
          "model_name": "VBoxModel",
          "model_module_version": "1.5.0",
          "state": {
            "_dom_classes": [],
            "_model_module": "@jupyter-widgets/controls",
            "_model_module_version": "1.5.0",
            "_model_name": "VBoxModel",
            "_view_count": null,
            "_view_module": "@jupyter-widgets/controls",
            "_view_module_version": "1.5.0",
            "_view_name": "VBoxView",
            "box_style": "",
            "children": [
              "IPY_MODEL_c41268a716b34cf5aaed857d31e15402"
            ],
            "layout": "IPY_MODEL_0d145e87f8fe45c091bcffceafa4af28"
          }
        },
        "2d2e754f40b84cb58b5c8470907c2cc7": {
          "model_module": "@jupyter-widgets/controls",
          "model_name": "ToggleButtonModel",
          "model_module_version": "1.5.0",
          "state": {
            "_dom_classes": [],
            "_model_module": "@jupyter-widgets/controls",
            "_model_module_version": "1.5.0",
            "_model_name": "ToggleButtonModel",
            "_view_count": null,
            "_view_module": "@jupyter-widgets/controls",
            "_view_module_version": "1.5.0",
            "_view_name": "ToggleButtonView",
            "button_style": "",
            "description": "",
            "description_tooltip": null,
            "disabled": false,
            "icon": "globe",
            "layout": "IPY_MODEL_76e5472c53f14df48abed06e3eb088bf",
            "style": "IPY_MODEL_b747c62899de49768dd601a85cc761d8",
            "tooltip": "Search location/data",
            "value": false
          }
        },
        "9bd9732770c34c45b5163daa5f5e532e": {
          "model_module": "@jupyter-widgets/base",
          "model_name": "LayoutModel",
          "model_module_version": "1.2.0",
          "state": {
            "_model_module": "@jupyter-widgets/base",
            "_model_module_version": "1.2.0",
            "_model_name": "LayoutModel",
            "_view_count": null,
            "_view_module": "@jupyter-widgets/base",
            "_view_module_version": "1.2.0",
            "_view_name": "LayoutView",
            "align_content": null,
            "align_items": null,
            "align_self": null,
            "border": null,
            "bottom": null,
            "display": null,
            "flex": null,
            "flex_flow": null,
            "grid_area": null,
            "grid_auto_columns": null,
            "grid_auto_flow": null,
            "grid_auto_rows": null,
            "grid_column": null,
            "grid_gap": null,
            "grid_row": null,
            "grid_template_areas": null,
            "grid_template_columns": null,
            "grid_template_rows": null,
            "height": null,
            "justify_content": null,
            "justify_items": null,
            "left": null,
            "margin": null,
            "max_height": null,
            "max_width": null,
            "min_height": null,
            "min_width": null,
            "object_fit": null,
            "object_position": null,
            "order": null,
            "overflow": null,
            "overflow_x": null,
            "overflow_y": null,
            "padding": null,
            "right": null,
            "top": null,
            "visibility": null,
            "width": null
          }
        },
        "c41268a716b34cf5aaed857d31e15402": {
          "model_module": "@jupyter-widgets/controls",
          "model_name": "ToggleButtonModel",
          "model_module_version": "1.5.0",
          "state": {
            "_dom_classes": [],
            "_model_module": "@jupyter-widgets/controls",
            "_model_module_version": "1.5.0",
            "_model_name": "ToggleButtonModel",
            "_view_count": null,
            "_view_module": "@jupyter-widgets/controls",
            "_view_module_version": "1.5.0",
            "_view_name": "ToggleButtonView",
            "button_style": "",
            "description": "",
            "description_tooltip": null,
            "disabled": false,
            "icon": "wrench",
            "layout": "IPY_MODEL_3abf352524c8449ab000c15ff9da8a24",
            "style": "IPY_MODEL_2c9efe71eecc42e8ba753da53c8e74d2",
            "tooltip": "Toolbar",
            "value": false
          }
        },
        "0d145e87f8fe45c091bcffceafa4af28": {
          "model_module": "@jupyter-widgets/base",
          "model_name": "LayoutModel",
          "model_module_version": "1.2.0",
          "state": {
            "_model_module": "@jupyter-widgets/base",
            "_model_module_version": "1.2.0",
            "_model_name": "LayoutModel",
            "_view_count": null,
            "_view_module": "@jupyter-widgets/base",
            "_view_module_version": "1.2.0",
            "_view_name": "LayoutView",
            "align_content": null,
            "align_items": null,
            "align_self": null,
            "border": null,
            "bottom": null,
            "display": null,
            "flex": null,
            "flex_flow": null,
            "grid_area": null,
            "grid_auto_columns": null,
            "grid_auto_flow": null,
            "grid_auto_rows": null,
            "grid_column": null,
            "grid_gap": null,
            "grid_row": null,
            "grid_template_areas": null,
            "grid_template_columns": null,
            "grid_template_rows": null,
            "height": null,
            "justify_content": null,
            "justify_items": null,
            "left": null,
            "margin": null,
            "max_height": null,
            "max_width": null,
            "min_height": null,
            "min_width": null,
            "object_fit": null,
            "object_position": null,
            "order": null,
            "overflow": null,
            "overflow_x": null,
            "overflow_y": null,
            "padding": null,
            "right": null,
            "top": null,
            "visibility": null,
            "width": null
          }
        },
        "76e5472c53f14df48abed06e3eb088bf": {
          "model_module": "@jupyter-widgets/base",
          "model_name": "LayoutModel",
          "model_module_version": "1.2.0",
          "state": {
            "_model_module": "@jupyter-widgets/base",
            "_model_module_version": "1.2.0",
            "_model_name": "LayoutModel",
            "_view_count": null,
            "_view_module": "@jupyter-widgets/base",
            "_view_module_version": "1.2.0",
            "_view_name": "LayoutView",
            "align_content": null,
            "align_items": null,
            "align_self": null,
            "border": null,
            "bottom": null,
            "display": null,
            "flex": null,
            "flex_flow": null,
            "grid_area": null,
            "grid_auto_columns": null,
            "grid_auto_flow": null,
            "grid_auto_rows": null,
            "grid_column": null,
            "grid_gap": null,
            "grid_row": null,
            "grid_template_areas": null,
            "grid_template_columns": null,
            "grid_template_rows": null,
            "height": "28px",
            "justify_content": null,
            "justify_items": null,
            "left": null,
            "margin": null,
            "max_height": null,
            "max_width": null,
            "min_height": null,
            "min_width": null,
            "object_fit": null,
            "object_position": null,
            "order": null,
            "overflow": null,
            "overflow_x": null,
            "overflow_y": null,
            "padding": "0px 0px 0px 4px",
            "right": null,
            "top": null,
            "visibility": null,
            "width": "28px"
          }
        },
        "b747c62899de49768dd601a85cc761d8": {
          "model_module": "@jupyter-widgets/controls",
          "model_name": "DescriptionStyleModel",
          "model_module_version": "1.5.0",
          "state": {
            "_model_module": "@jupyter-widgets/controls",
            "_model_module_version": "1.5.0",
            "_model_name": "DescriptionStyleModel",
            "_view_count": null,
            "_view_module": "@jupyter-widgets/base",
            "_view_module_version": "1.2.0",
            "_view_name": "StyleView",
            "description_width": ""
          }
        },
        "3abf352524c8449ab000c15ff9da8a24": {
          "model_module": "@jupyter-widgets/base",
          "model_name": "LayoutModel",
          "model_module_version": "1.2.0",
          "state": {
            "_model_module": "@jupyter-widgets/base",
            "_model_module_version": "1.2.0",
            "_model_name": "LayoutModel",
            "_view_count": null,
            "_view_module": "@jupyter-widgets/base",
            "_view_module_version": "1.2.0",
            "_view_name": "LayoutView",
            "align_content": null,
            "align_items": null,
            "align_self": null,
            "border": null,
            "bottom": null,
            "display": null,
            "flex": null,
            "flex_flow": null,
            "grid_area": null,
            "grid_auto_columns": null,
            "grid_auto_flow": null,
            "grid_auto_rows": null,
            "grid_column": null,
            "grid_gap": null,
            "grid_row": null,
            "grid_template_areas": null,
            "grid_template_columns": null,
            "grid_template_rows": null,
            "height": "28px",
            "justify_content": null,
            "justify_items": null,
            "left": null,
            "margin": null,
            "max_height": null,
            "max_width": null,
            "min_height": null,
            "min_width": null,
            "object_fit": null,
            "object_position": null,
            "order": null,
            "overflow": null,
            "overflow_x": null,
            "overflow_y": null,
            "padding": "0px 0px 0px 4px",
            "right": null,
            "top": null,
            "visibility": null,
            "width": "28px"
          }
        },
        "2c9efe71eecc42e8ba753da53c8e74d2": {
          "model_module": "@jupyter-widgets/controls",
          "model_name": "DescriptionStyleModel",
          "model_module_version": "1.5.0",
          "state": {
            "_model_module": "@jupyter-widgets/controls",
            "_model_module_version": "1.5.0",
            "_model_name": "DescriptionStyleModel",
            "_view_count": null,
            "_view_module": "@jupyter-widgets/base",
            "_view_module_version": "1.2.0",
            "_view_name": "StyleView",
            "description_width": ""
          }
        }
      }
    }
  },
  "cells": [
    {
      "cell_type": "markdown",
      "metadata": {
        "id": "view-in-github",
        "colab_type": "text"
      },
      "source": [
        "<a href=\"https://colab.research.google.com/github/BYU-Hydroinformatics/ee-wq-lasso/blob/main/notebook_1.ipynb\" target=\"_parent\"><img src=\"https://colab.research.google.com/assets/colab-badge.svg\" alt=\"Open In Colab\"/></a>"
      ]
    },
    {
      "cell_type": "markdown",
      "source": [
        "*Authors: Anna Cardall, Kel Markert & Gus Williams*, Brigham Young University\n",
        "\n",
        "🚨 Please use the following citation for this notebook:\n",
        "\n",
        "Cardall, A. C., Hales, R. C., Williams, G.P., Tanner, K. B., Markert, Kel N. (2023). LASSO (L1) Regularization for Development of Sparse Remtoe Sensing Models with Applications to Optically Complex Waters using GEE Tools. Remote Sensing.\n",
        "\n",
        "</br>\n",
        "\n",
        "##**Introduction**\n",
        "Remote sensing tools can provide spatial and temporal resolution for monitoring water quality in reservoirs and large rivers that are not available from traditional *in situ* measurements. The retrieval of water quality parameters from remote sensing systems relies on the optical properties (transmittance, absorption and scattering) of water and the dissolved and suspended constituents in the water. Suspended solids are responsible for most of the scattering in an aquatic system, whereas chlorophyll-*a* (chl-*a*) and colored dissolved matter are mainly responsible for absorption ([Myint and Walker, 2002](https://doi.org/10.1080/01431160110104700\n",
        ")). There is a wide body of research on assessing water quality analytical optical modeling using in situ inherent optical properties ([Cox et al., 2009](https://doi.org/10.1080/07438149809354347)). Methods used to relate in situ data to the satellite observations through statistical relationships include simple linear regression, non-linear regressions, principal component analysis, and neural networks. </br>\n",
        "\n",
        "This notebook generates the data pairs of in-situ measurements and satellite data needed to create such models. It takes a CSV file of *in-situ* water quality data, dates, and locations of each measurement and exports and CSV file containing the *in-situ* measurement information and the band values of a near-coincident satellite image at the sample location along with the time offset between the in-situ measurement and the satellite collection. We use Landsat data in this notebook, but the code can be modified to use other satellites."
      ],
      "metadata": {
        "id": "lWjB3K5sd6Kq"
      }
    },
    {
      "cell_type": "markdown",
      "source": [
        "## **Instructions**\n",
        "\n",
        "Obtaining the dataset requires fives steps:\n",
        "1. Setup Google Earth Engine (GEE)\n",
        "2. Prepare and import the in-situ dataset \n",
        "3. Make some selections for time zone and resolution\n",
        "4. Click 'Run' on a group of cells\n",
        "\n",
        "Each step has its own heading and detailed instructions below.</br></br>\n",
        "\n",
        "\n",
        "This tool does not require any programming, but some understanding of the code might be helpful if you would like to make adjustments or additions. If you are new to Python programming, go through [this guide](https://docs.python.org/3/tutorial/index.html).  Review the [Earth Engine documentation](https://developers.google.com/earth-engine/guides) and the [Python Guide](https://developers.google.com/earth-engine/guides/python_install).\n",
        "\n",
        "A few links that are helpful:\n",
        "\n",
        "*   [Earth Engine Documentation](https://developers.google.com/earth-engine)\n",
        "*   [Earth Engine API Reference](https://developers.google.com/earth-engine/apidocs)\n",
        "* [Earth Engine Data Catalog](https://developers.google.com/earth-engine/datasets)\n",
        "* [Earth Engine Best Practices](https://developers.google.com/earth-engine/guides/best_practices)\n",
        "* [Tethys Portal](https://tethys-staging.byu.edu/apps/lake/data/)"
      ],
      "metadata": {
        "id": "Potc5Pudd_W3"
      }
    },
    {
      "cell_type": "markdown",
      "source": [
        "## **1. Setup Google Earth Engine (GEE)**\n",
        "\n",
        "The Earth Engine API is installed by default in Google Colaboratory so requires only importing and authenticating. We will also install a package for visualizing results. These steps must be completed for each new Colab session, if you restart your Colab kernel, or if your Colab virtual machine is recycled due to inactivity. \n",
        "\n",
        "You will need a Google Earth Engine account to run this notebook. "
      ],
      "metadata": {
        "id": "1zNNcsBteReA"
      }
    },
    {
      "cell_type": "code",
      "execution_count": null,
      "metadata": {
        "id": "Jqtqb35DdzCA"
      },
      "outputs": [],
      "source": [
        "# install geemap package for visualizing ee results\n",
        "!pip install geemap &> install.log"
      ]
    },
    {
      "cell_type": "code",
      "source": [
        "# import ee api, geemap package, and Jupyter Widgets package\n",
        "import ee\n",
        "import math\n",
        "import geemap\n",
        "import numpy as np\n",
        "import pandas as pd\n",
        "from geemap import colormaps as cmaps\n",
        "import ipywidgets as widgets\n",
        "from IPython.display import display\n",
        "%config InteractiveShell.ast_node_interactivity = 'all'\n",
        "\n",
        "%pylab inline"
      ],
      "metadata": {
        "id": "hnZNbmHIeTwH",
        "colab": {
          "base_uri": "https://localhost:8080/",
          "height": 35
        },
        "outputId": "fc1eea99-1631-49da-bfca-e5b9aaa659d8"
      },
      "execution_count": null,
      "outputs": [
        {
          "output_type": "stream",
          "name": "stdout",
          "text": [
            "Populating the interactive namespace from numpy and matplotlib\n"
          ]
        }
      ]
    },
    {
      "cell_type": "code",
      "source": [
        "# try to initalize an ee session\n",
        "# if not authenticated then run auth workflow and initialize\n",
        "try:\n",
        "    ee.Initialize()\n",
        "except:\n",
        "    ee.Authenticate()\n",
        "    ee.Initialize()"
      ],
      "metadata": {
        "id": "z8q-Lg7BeVO_",
        "colab": {
          "base_uri": "https://localhost:8080/"
        },
        "outputId": "97b1efb8-bdff-4aaa-cab6-3fc4a36cc809"
      },
      "execution_count": null,
      "outputs": [
        {
          "output_type": "stream",
          "name": "stdout",
          "text": [
            "To authorize access needed by Earth Engine, open the following URL in a web browser and follow the instructions. If the web browser does not start automatically, please manually browse the URL below.\n",
            "\n",
            "    https://code.earthengine.google.com/client-auth?scopes=https%3A//www.googleapis.com/auth/earthengine%20https%3A//www.googleapis.com/auth/devstorage.full_control&request_id=1vPc0JkotksHxtA40Pd5h9t0NpEj0NPun2m6bKq9N2E&tc=QQQZVjtO90J1sVtUNQNqRczhs5Mr9I1-lqPx53l2H0U&cc=_xX5yzdsIpTzxNpyWUWmnsyPNR-zUGnQIvzD8ZWQ2Go\n",
            "\n",
            "The authorization workflow will generate a code, which you should paste in the box below.\n",
            "Enter verification code: 4/1AWtgzh4kgDDFNriKKzgFBQQdYB0X3fIe3xFVpUR5e5X34VHBwBPb9Fdkwvk\n",
            "\n",
            "Successfully saved authorization token.\n"
          ]
        }
      ]
    },
    {
      "cell_type": "markdown",
      "source": [
        "## **2. Load in the dataset of in-situ samples**\n",
        "\n",
        "### **Prepare CSV file**\n",
        "Your file should have the columns shown in the following table. The column headins should match exactly. You may alter either your file or the code for the notebook to process your data, the former being the easier option. But warned, there might be some debugging involved here! \n",
        "\n",
        "See this [link](http://joda-time.sourceforge.net/apidocs/org/joda/time/format/DateTimeFormat.html) for help with formatting data representing the dates. See this [link](https://en.wikipedia.org/wiki/List_of_tz_database_time_zones) for a list of allowable time zone strings. You can use the strings under \"TZ database name\" or \"Time zone abbreviation\" columns.\n",
        "\n",
        "While the below table has the column names listed vertically, in the spreadsheet they should be the horizontal column names and on row 1. \n",
        "\n",
        "</br>\n",
        "\n",
        "| Column Name       | Format     | Example    \n",
        "| ----------------- | ---------- | ----------- \n",
        "| date              | MM/dd/YYYY | 7/11/1989 \n",
        "| time              | HH:mm:ss a | 9:30:00 AM\n",
        "| time zone         |            | MST\n",
        "| latitude          |            | 40.26828\n",
        "| longitude         |            | -111.82993\n",
        "| parameter name    |            | chlorophyll-a\n",
        "| measurement value |            | 31.8\n",
        "| unit              |            | ug/L\n",
        "\n",
        "</br>\n",
        "\n",
        "### **Clean your dataset**\n",
        "This notebook removes any rows not containing a date, time, latitude, longitude, or measurement value. However, before uploading, you should perform your own data data cleaning to remove such rows or any other rows otherwise unsuitable for your research purposes. For example, you may want to remove rows with unreasonably high, low, or physically impossible measurement values, data outside of your period of interest, or duplicates.\n",
        "\n",
        "</br>\n",
        "\n",
        "### **Import CSV file into GEE as an asset**\n",
        "To bring a file into GEE, you must first upload it as an asset. To do this, go to https://code.earthengine.google.com/, click the \"Assets\" tab on the left, click the red 'New' button, and select \"CSV file (.csv)\" under the \"Table Upload\" header. \n",
        "*  If the columns for latitude and longitude are not \"latitude\" and \"latitude\" in your .csv file, either change the header or specify the headers under the \"Advanced Options\" heading in the upload menu. This allows GEE to construct point geometries for the samples. </br>\n",
        "*  Investigate any error messages that appear if uploading the file fails, and look under the \"Advanced Options\" heading in case you need to make any additional specifications.\n",
        "\n",
        "Once it's uploaded, click on the file in the list assets and copy its Table ID (aka Asset ID) and paste it below. It should look something like 'users/your_username/file_name' or 'projects/my-cool-project/assets/file_name' (without the quotes).\n",
        "\n",
        "The below \"file_path\" value is an example. Yours will be different. "
      ],
      "metadata": {
        "id": "aJAPPFSwjzbd"
      }
    },
    {
      "cell_type": "code",
      "source": [
        "#@markdown **Enter a file path**\n",
        "\n",
        "# Colab form field for a string\n",
        "file_path = \"projects/byu-models/assets/AWQMS_turbidity\" #@param {type:\"string\"}\n",
        "\n",
        "# pull in the dataset \n",
        "# and delete rows with NANs in important columns\n",
        "dataset = (\n",
        "    ee.FeatureCollection(file_path)\n",
        "    .filter(ee.Filter.neq('date', None))\n",
        "    .filter(ee.Filter.neq('time', None))\n",
        "    .filter(ee.Filter.neq('latitude', None))\n",
        "    .filter(ee.Filter.neq('longitude', None))\n",
        "    .filter(ee.Filter.neq('measurement value', None))\n",
        ")\n",
        "\n",
        "# print out the number of samples\n",
        "print(f\"Total number of samples: {dataset.size().getInfo()}\"+\"\\n\")\n",
        "\n",
        "# Display a map of the in situ samples\n",
        "Map = geemap.Map()\n",
        "\n",
        "Map.centerObject(dataset, 10); \n",
        "\n",
        "Map.addLayer(dataset,{},\"In-Situ Samples\")\n",
        "\n",
        "Map.addLayerControl()\n",
        "\n",
        "Map"
      ],
      "metadata": {
        "id": "uYS3wWcmjzt8",
        "colab": {
          "base_uri": "https://localhost:8080/",
          "height": 658,
          "referenced_widgets": [
            "8428112156e847c481906f267a5a0651",
            "a4dac4be345b452c991b687f7b9c4a87",
            "8455658516d248b198a11b2df735bdfd",
            "1caf8c3bb5c34b90a0a6735d5f771b45",
            "9967ea50f43e4b2abde4539d033d6131",
            "b6dac53d39f944ed83518b78dadba49f",
            "8feda7e800a94468ad7e2db2a1cd4aeb",
            "61ad5408900e4c03b7d2e78d03dcbed6",
            "cae763b0cfab4ad995e39a2b33378802",
            "ce949207c6ad4d038d7858948023f2fb",
            "66bfec0c8b9b407b8f934dc5dac0335b",
            "41d240238f044dc888128b6a80f53cf5",
            "8822166c25e54860824be51d07b5e1f5",
            "3e5483523b06426489ed7a7f58043d9f",
            "0ee77530a2184d02ab534c8aa8e5719b",
            "d8204fb488d841b8be733d0db7b1a27d",
            "78c88ea1347c4978abfe27ba57d45c20",
            "c6110c61a47648f3b8e52a39117381ff",
            "e79f16e0edd3436aa28a10edab64f6a8",
            "2d2e754f40b84cb58b5c8470907c2cc7",
            "9bd9732770c34c45b5163daa5f5e532e",
            "c41268a716b34cf5aaed857d31e15402",
            "0d145e87f8fe45c091bcffceafa4af28",
            "76e5472c53f14df48abed06e3eb088bf",
            "b747c62899de49768dd601a85cc761d8",
            "3abf352524c8449ab000c15ff9da8a24",
            "2c9efe71eecc42e8ba753da53c8e74d2"
          ]
        },
        "outputId": "e938bf3a-f2b1-4540-e4f4-1bcc0f886c27",
        "cellView": "form"
      },
      "execution_count": null,
      "outputs": [
        {
          "output_type": "stream",
          "name": "stdout",
          "text": [
            "Total number of samples: 586\n",
            "\n"
          ]
        },
        {
          "output_type": "display_data",
          "data": {
            "text/plain": [
              "Map(center=[40.237799209199274, -111.80487311788401], controls=(WidgetControl(options=['position', 'transparen…"
            ],
            "application/vnd.jupyter.widget-view+json": {
              "version_major": 2,
              "version_minor": 0,
              "model_id": "8428112156e847c481906f267a5a0651"
            }
          },
          "metadata": {
            "application/vnd.jupyter.widget-view+json": {
              "colab": {
                "custom_widget_manager": {
                  "url": "https://ssl.gstatic.com/colaboratory-static/widgets/colab-cdn-widget-manager/b3e629b1971e1542/manager.min.js"
                }
              }
            }
          }
        }
      ]
    },
    {
      "cell_type": "markdown",
      "source": [
        "##**3. Make selections**"
      ],
      "metadata": {
        "id": "ALCp5U94FiBa"
      }
    },
    {
      "cell_type": "code",
      "source": [
        "#@markdown Select a resolution. \"30\" uses a single 30-m  pixel\n",
        "#@markdown containing the coordinate of the in-situ sample. Select \"90\" \n",
        "#@markdown if you would like information of a 90-m pixel, an aggregation of a \n",
        "#@markdown 3x3 pixel grid (see [this page](https://developers.google.com/earth-engine/guides/scale) \n",
        "#@markdown for more information on *scale* in GEE).\n",
        "resolution = \"30\" #@param [30,90]\n",
        "resolution = float(resolution)\n",
        "\n",
        "#@markdown Enter a time zone to format the satellite image date by. \n",
        "#@markdown See this [link](https://en.wikipedia.org/wiki/List_of_tz_database_time_zones) \n",
        "#@markdown for a list of allowable time zone strings. You can use the strings under \n",
        "#@markdown \"TZ database name\" or \"Time zone abbreviation\" columns.\n",
        "#@markdown Defaults to UTC. This is the time zone of the samples in the CSV file. \n",
        "time_zone = \"America/Denver\" #@param {type:\"string\"}"
      ],
      "metadata": {
        "id": "llHNzgzjGQ7Z",
        "cellView": "form"
      },
      "execution_count": null,
      "outputs": []
    },
    {
      "cell_type": "markdown",
      "source": [
        "## **4. Run these cells!**"
      ],
      "metadata": {
        "id": "WA2SeJiyIlLH"
      }
    },
    {
      "cell_type": "markdown",
      "source": [
        "### **Prepare the in-situ dataset**"
      ],
      "metadata": {
        "id": "CFNgj-S5F6RU"
      }
    },
    {
      "cell_type": "code",
      "source": [
        "# format date information for samples\n",
        "def format_sample_date(feature):\n",
        "\n",
        "    # extract day, time, and time zone\n",
        "    sample_day = ee.String(feature.get('date'))\n",
        "    sample_time = ee.String(feature.get('time'))\n",
        "    sample_timeZone = ee.String(feature.get('time zone'))\n",
        "\n",
        "    # combine into a single string\n",
        "    sample_date = sample_day.cat(' ').cat(sample_time).cat(' ').cat(sample_timeZone)\n",
        "\n",
        "    # convert date to milliseconds since 1970\n",
        "    sample_timestamp = ee.Date.parse('MM/dd/YYYY HH:mm:ss a z', sample_date).millis()\n",
        "\n",
        "    return feature.set(\"sample date\", sample_date,'sample timestamp (ms)', sample_timestamp)\n",
        "\n",
        "dataset = dataset.map(format_sample_date)"
      ],
      "metadata": {
        "id": "sRloEdpTwCjq"
      },
      "execution_count": null,
      "outputs": []
    },
    {
      "cell_type": "markdown",
      "source": [
        "### **Prepare satellite data**"
      ],
      "metadata": {
        "id": "478g_FSCYmqq"
      }
    },
    {
      "cell_type": "markdown",
      "source": [
        "#### **Scaling factor function**"
      ],
      "metadata": {
        "id": "nzC3XKmYJdt1"
      }
    },
    {
      "cell_type": "code",
      "source": [
        "# function to apply Collection 2 scaling factors\n",
        "def applyScaleFactors(image):\n",
        "  opticalBands = image.select('SR_B.').multiply(0.0000275).add(-0.2);\n",
        "  thermalBands = image.select('ST_B.*').multiply(0.00341802).add(149.0)\n",
        "  image = image.addBands(opticalBands, None, True).addBands(thermalBands, None, True)\n",
        "  return image"
      ],
      "metadata": {
        "id": "In3chpFE6LHw"
      },
      "execution_count": null,
      "outputs": []
    },
    {
      "cell_type": "markdown",
      "source": [
        "#### **Land & quality mask function**"
      ],
      "metadata": {
        "id": "y7r_7G2c1Wre"
      }
    },
    {
      "cell_type": "code",
      "source": [
        "# load historical suface water occurrence information to constain water masks\n",
        "water_occurrence = ee.Image(\"JRC/GSW1_3/GlobalSurfaceWater\").select(\"occurrence\")\n",
        "water_constrain = water_occurrence.gt(50)\n",
        "\n",
        "# QA mask function\n",
        "def qa_mask(image):\n",
        "    # Bits 3, 4, and 5 are cloud, cloud shadow, and snow, respectively.\n",
        "    cloudsBitMask = (1 << 3);\n",
        "    cloudShadowBitMask = (1 << 4);\n",
        "    snowBitMask = (1 << 5);\n",
        "\n",
        "    #Get the pixel QA band.\n",
        "    qa = image.select('QA_PIXEL');\n",
        "\n",
        "    # apply the bit shift and get binary image of different QA flags\n",
        "    cloud_qa = qa.bitwiseAnd(cloudsBitMask).eq(0)\n",
        "    cloud_shadow_qa = qa.bitwiseAnd(cloudShadowBitMask).eq(0)\n",
        "    snow_qa = qa.bitwiseAnd(snowBitMask).eq(0)\n",
        "\n",
        "    # get water mask info!\n",
        "    waterBitMask = (1 << 7)\n",
        "    # and constrain to where we know there is water\n",
        "    water_qa = qa.bitwiseAnd(waterBitMask).updateMask(water_constrain)\n",
        "\n",
        "    # combine qa mask layers to one final mask\n",
        "    mask = cloud_shadow_qa.And(snow_qa).And(cloud_qa).And(water_qa)\n",
        "\n",
        "    # apply mask and return orignal image\n",
        "    return image.updateMask(mask);"
      ],
      "metadata": {
        "id": "GOO_Ier3yKsz"
      },
      "execution_count": null,
      "outputs": []
    },
    {
      "cell_type": "markdown",
      "source": [
        "#### **Band renaming function**"
      ],
      "metadata": {
        "id": "hDg4SSmUJM4L"
      }
    },
    {
      "cell_type": "code",
      "source": [
        "# function to rename Landsat 5 & 7 bands\n",
        "def L57_BandRenamer(image):\n",
        "  image = image.select(['SR_B1','SR_B2','SR_B3','SR_B4','SR_B5','SR_B7','ST_B6'],\n",
        "                       ['blue','green','red','NIR','SWIR1','SWIR2','SurfTempK'])\n",
        "  return image\n",
        "\n",
        "# function to rename Landsat 8 & 9 bands. We do not select UltraBlue\n",
        "def L89_BandRenamer(image):\n",
        "  image = image.select(['SR_B2','SR_B3','SR_B4','SR_B5','SR_B6','SR_B7','ST_B10'],\n",
        "                       ['blue','green','red','NIR','SWIR1','SWIR2','SurfTempK'])\n",
        "  return image"
      ],
      "metadata": {
        "id": "P8Cm9ZEr6GUr"
      },
      "execution_count": null,
      "outputs": []
    },
    {
      "cell_type": "markdown",
      "source": [
        "#### **Load in Landsat data**"
      ],
      "metadata": {
        "id": "UGDkAO4hJy5j"
      }
    },
    {
      "cell_type": "code",
      "source": [
        "# Collect all Tier 1, Landsat Collection 2 SR images of the area for each satellite\n",
        "L5 = ee.ImageCollection(\"LANDSAT/LT05/C02/T1_L2\").filterBounds(dataset)\n",
        "L7 = ee.ImageCollection(\"LANDSAT/LE07/C02/T1_L2\").filterBounds(dataset)\n",
        "L8 = ee.ImageCollection(\"LANDSAT/LC08/C02/T1_L2\").filterBounds(dataset)\n",
        "L9 = ee.ImageCollection(\"LANDSAT/LC09/C02/T1_L2\").filterBounds(dataset)"
      ],
      "metadata": {
        "id": "xWADN3Ni5mp6"
      },
      "execution_count": null,
      "outputs": []
    },
    {
      "cell_type": "markdown",
      "source": [
        "#### **Scale, quality mask, and rename**"
      ],
      "metadata": {
        "id": "MYlrD_R2J_Jq"
      }
    },
    {
      "cell_type": "code",
      "source": [
        "# scale, quality mask, and rename all satellite data\n",
        "L5_prepared = L5.map(applyScaleFactors).map(qa_mask).map(L57_BandRenamer)\n",
        "L7_prepared = L7.map(applyScaleFactors).map(qa_mask).map(L57_BandRenamer)\n",
        "L8_prepared = L8.map(applyScaleFactors).map(qa_mask).map(L89_BandRenamer)\n",
        "L9_prepared = L9.map(applyScaleFactors).map(qa_mask).map(L89_BandRenamer)\n",
        "\n",
        "# Merges the prepared satellite collections \n",
        "# and sorts the new collection by date\n",
        "satellite_data = L5_prepared.merge(L7_prepared).merge(L8_prepared).merge(L9_prepared)\n",
        "satellite_data = satellite_data.sort('system:time_start')"
      ],
      "metadata": {
        "id": "2Fg3kLSw6Oao"
      },
      "execution_count": null,
      "outputs": []
    },
    {
      "cell_type": "markdown",
      "source": [
        "### **Find near-coincident data**"
      ],
      "metadata": {
        "id": "F70xPAxZKt6a"
      }
    },
    {
      "cell_type": "markdown",
      "source": [
        "#### **Get a list of sample dates**"
      ],
      "metadata": {
        "id": "lhckrDD6N5Cv"
      }
    },
    {
      "cell_type": "code",
      "source": [
        "dates = (\n",
        "    dataset\n",
        "    .aggregate_array('sample timestamp (ms)')\n",
        "    .distinct()\n",
        ")\n",
        "\n",
        "# get how many dates we have to loop through\n",
        "n = dates.size().getInfo()\n",
        "print(f\"Number of collection dates: {n}\")"
      ],
      "metadata": {
        "id": "_5TIkmqYvuRS",
        "colab": {
          "base_uri": "https://localhost:8080/"
        },
        "outputId": "58197753-4452-40f1-9814-9a73311f1ff3"
      },
      "execution_count": null,
      "outputs": [
        {
          "output_type": "stream",
          "name": "stdout",
          "text": [
            "Number of collection dates: 585\n"
          ]
        }
      ]
    },
    {
      "cell_type": "markdown",
      "source": [
        "#### **Loop to find Near Coincident data from satellite**"
      ],
      "metadata": {
        "id": "4QdsRBqJODBx"
      }
    },
    {
      "cell_type": "code",
      "source": [
        "import sys\n",
        "sys.setrecursionlimit(10000)"
      ],
      "metadata": {
        "id": "CjqMP21xFx8j"
      },
      "execution_count": null,
      "outputs": []
    },
    {
      "cell_type": "code",
      "source": [
        "# create an empty featurecollection to append samples to\n",
        "data_pairs = ee.FeatureCollection([])\n",
        "\n",
        "# start looping over dates\n",
        "for i in range(n):\n",
        "    sample_date = ee.Date(dates.get(i))\n",
        "\n",
        "    tolerance = 5 # days\n",
        "\n",
        "    # get time bounds to filter imagery\n",
        "    t1 = sample_date.advance(-tolerance,\"day\")\n",
        "    t2 = sample_date.advance(tolerance,\"day\")\n",
        "\n",
        "    # get the samples from the date of interest\n",
        "    samples_date = dataset.filter(ee.Filter.eq('sample timestamp (ms)',sample_date.millis()))\n",
        "\n",
        "    # filter imagery for date and mosaic\n",
        "    sample_img = (\n",
        "        satellite_data\n",
        "        .filterDate(t1,t2)\n",
        "        .map(lambda x: x.addBands(x.metadata('system:time_start','image_timestamp (ms)')))\n",
        "        .mosaic()\n",
        "        .addBands(ee.Image.pixelLonLat())\n",
        "    )\n",
        "\n",
        "    # sample pixels using the sample points\n",
        "    spectra_samples = sample_img.sampleRegions(\n",
        "        collection = samples_date,\n",
        "        scale = resolution,\n",
        "        tileScale = 4, \n",
        "        geometries = True\n",
        "    )\n",
        "\n",
        "    # append samples from date to larger collection\n",
        "    data_pairs = data_pairs.merge(spectra_samples)\n",
        "\n",
        "# filter by a band to make sure we only have samples from valid observations\n",
        "# and remove nans\n",
        "data_pairs = data_pairs.filter(ee.Filter.neq(\"blue\", None))"
      ],
      "metadata": {
        "id": "mlZ4-0FJFypw"
      },
      "execution_count": null,
      "outputs": []
    },
    {
      "cell_type": "markdown",
      "source": [
        "### **Prepare export**"
      ],
      "metadata": {
        "id": "_wZ7tCHbVl4S"
      }
    },
    {
      "cell_type": "code",
      "source": [
        "# add pixel merging, time window, and image date columns\n",
        "def addProperties(feature):\n",
        "    # adding column indicating if 3x3 pixel grid was used for image data\n",
        "    new_feature = feature.set('resolution', resolution)\n",
        "\n",
        "    # computing the # of hours between samples and the satellite image\n",
        "    sample_timestamp = ee.Number(feature.get('sample timestamp (ms)'))\n",
        "    image_timestamp = ee.Number(feature.get('image_timestamp (ms)'))\n",
        "    # subtracting the ms timestamps, converting to hours, and taking absolute value\n",
        "    time_window = ee.Number.expression('(s-i)/3600000', {'s':sample_timestamp,'i': image_timestamp}).abs()\n",
        "    new_feature = new_feature.set('time window', time_window)\n",
        "\n",
        "    # adding an image date column with a readable date\n",
        "    image_date = ee.Date(image_timestamp).format('MM/dd/YYYY HH:mm:ss a z', time_zone)\n",
        "    new_feature = new_feature.set('image date',image_date)\n",
        "\n",
        "    return new_feature\n",
        "\n",
        "dataPairs = data_pairs.map(addProperties)"
      ],
      "metadata": {
        "id": "NYyI082UbJlU"
      },
      "execution_count": null,
      "outputs": []
    },
    {
      "cell_type": "code",
      "source": [
        "# sort by ascending date\n",
        "dataPairs = dataPairs.sort('sample timestamp (ms)')"
      ],
      "metadata": {
        "id": "X18qKCTJ8UMA"
      },
      "execution_count": null,
      "outputs": []
    },
    {
      "cell_type": "code",
      "source": [
        "# list of columns to keep in the .csv export, in order\n",
        "properties = ['parameter name','measurement value','unit','latitude','longitude','sample date','time window','image date','resolution','blue','green','red','NIR','SWIR1','SWIR2','SurfTempK']"
      ],
      "metadata": {
        "id": "vJ-9ALD28Wpo"
      },
      "execution_count": null,
      "outputs": []
    },
    {
      "cell_type": "code",
      "source": [
        "def export():\n",
        "  drive_task = ee.batch.Export.table.toDrive(\n",
        "      collection = dataPairs,\n",
        "      description = file_name,\n",
        "      folder = folder_name,\n",
        "      selectors = properties # columns\n",
        "  )\n",
        "  drive_task.start()"
      ],
      "metadata": {
        "id": "a3e3flHNINhK"
      },
      "execution_count": null,
      "outputs": []
    },
    {
      "cell_type": "markdown",
      "source": [
        "## **Export**\n",
        "\n",
        "Run the following when you're ready to export the CSV file. You can check on the status of the export in the [Earth Engine Task Manager](https://code.earthengine.google.com/tasks)."
      ],
      "metadata": {
        "id": "4Vpyeo5yMndY"
      }
    },
    {
      "cell_type": "code",
      "source": [
        "#@markdown Enter an output file name. \n",
        "file_name = \"dataPairs_v01\" #@param {type:\"string\"}\n",
        "\n",
        "#@markdown Enter an output folder name. This is a folder on your Google Drive. \n",
        "#@markdown Google Colaboratory does not support filepaths currently, so the notebook will\n",
        "#@markdown output to the most recently used folder of the entered folder name. \n",
        "folder_name = \"data_pairs\" #@param {type:\"string\"}"
      ],
      "metadata": {
        "id": "sOxWUcWIkDCe",
        "cellView": "form"
      },
      "execution_count": null,
      "outputs": []
    },
    {
      "cell_type": "code",
      "source": [
        "export()"
      ],
      "metadata": {
        "id": "Dd_8tdH4MKcY"
      },
      "execution_count": null,
      "outputs": []
    }
  ]
}